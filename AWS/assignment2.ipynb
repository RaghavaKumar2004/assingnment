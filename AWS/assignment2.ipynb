{
 "cells": [
  {
   "cell_type": "code",
   "execution_count": 1,
   "id": "5412806b",
   "metadata": {},
   "outputs": [],
   "source": [
    "#Refer capitalize function in shared program files, replicate .upper() and .lower() functions"
   ]
  },
  {
   "cell_type": "code",
   "execution_count": 2,
   "id": "5e9d42e0",
   "metadata": {},
   "outputs": [
    {
     "name": "stdout",
     "output_type": "stream",
     "text": [
      "Capitalize function: Hi,friends\n",
      "Replicated .upper() function: HI,FRIENDS\n",
      "Replicated .lower() function: hi,friends\n"
     ]
    }
   ],
   "source": [
    "string = \"Hi,Friends\"\n",
    "capitalize_function=string.capitalize()\n",
    "upper_function=string.upper()\n",
    "lower_function=string.lower()\n",
    "print(\"Capitalize function:\",capitalize_function)\n",
    "print(\"Replicated .upper() function:\",upper_function)\n",
    "print(\"Replicated .lower() function:\",lower_function)"
   ]
  },
  {
   "cell_type": "code",
   "execution_count": 3,
   "id": "2c5d534d",
   "metadata": {},
   "outputs": [],
   "source": [
    "#Create a odd sequence from given sequence [1,2,34,65,1,2,65,66,44,33,22,87,123412,09,78,76]"
   ]
  },
  {
   "cell_type": "code",
   "execution_count": 5,
   "id": "33fdae75",
   "metadata": {},
   "outputs": [
    {
     "name": "stdout",
     "output_type": "stream",
     "text": [
      "Odd sequence: [1, 1, 65, 33, 33, 87, 9]\n"
     ]
    }
   ],
   "source": [
    "given_sequence=[1,2,34,1,2,65,33,66,44,33,22,87,123412,9,78,76]\n",
    "odd_sequence=[num for num in given_sequence if num %2 !=0]\n",
    "print(\"Odd sequence:\",odd_sequence)"
   ]
  },
  {
   "cell_type": "code",
   "execution_count": 11,
   "id": "32658955",
   "metadata": {},
   "outputs": [],
   "source": [
    "#{‘apple’: 10, ‘mango’: 20, ‘pineapple’: 25, ‘orange’: 30, ‘strawberry’: 50, ‘jackfruit’: 10}\n",
    "#Generate a comprehension fruits which has more than 20"
   ]
  },
  {
   "cell_type": "code",
   "execution_count": 13,
   "id": "7a0b4d5e",
   "metadata": {},
   "outputs": [
    {
     "name": "stdout",
     "output_type": "stream",
     "text": [
      "Fruits with values more than 20: {'pineapple': 25, 'orange': 30, 'strawberry': 50}\n"
     ]
    }
   ],
   "source": [
    "fruits = {'apple':10, 'mango':20, 'pineapple':25, 'orange':30, 'strawberry':50, 'jackfruit':10}\n",
    "\n",
    "fruits_more_than_20={key:value for key, value in fruits.items() if value >20}\n",
    "print(\"Fruits with values more than 20:\", fruits_more_than_20)"
   ]
  },
  {
   "cell_type": "code",
   "execution_count": null,
   "id": "bac33c52",
   "metadata": {},
   "outputs": [],
   "source": []
  },
  {
   "cell_type": "code",
   "execution_count": null,
   "id": "dd4b676d",
   "metadata": {},
   "outputs": [],
   "source": []
  }
 ],
 "metadata": {
  "kernelspec": {
   "display_name": "Python 3 (ipykernel)",
   "language": "python",
   "name": "python3"
  },
  "language_info": {
   "codemirror_mode": {
    "name": "ipython",
    "version": 3
   },
   "file_extension": ".py",
   "mimetype": "text/x-python",
   "name": "python",
   "nbconvert_exporter": "python",
   "pygments_lexer": "ipython3",
   "version": "3.10.2"
  }
 },
 "nbformat": 4,
 "nbformat_minor": 5
}
