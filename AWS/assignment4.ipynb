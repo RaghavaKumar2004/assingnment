{
 "cells": [
  {
   "cell_type": "code",
   "execution_count": 1,
   "id": "957a715a",
   "metadata": {},
   "outputs": [],
   "source": [
    "#create various data types and experiment its attribute"
   ]
  },
  {
   "cell_type": "code",
   "execution_count": 3,
   "id": "b943478a",
   "metadata": {},
   "outputs": [
    {
     "name": "stdout",
     "output_type": "stream",
     "text": [
      "upper case: RAGHAVA\n",
      "lower case: raghava\n",
      "capitalized: Raghava\n",
      "replaced: Raghava\n"
     ]
    }
   ],
   "source": [
    "name=\"raghava\"\n",
    "upper_case=name.upper()\n",
    "print(\"upper case:\",upper_case)\n",
    "lower_case=name.lower()\n",
    "print(\"lower case:\",lower_case)\n",
    "capitalized=name.capitalize()\n",
    "print(\"capitalized:\",capitalized)\n",
    "replaced=name.replace('r','R')\n",
    "print(\"replaced:\",replaced)"
   ]
  },
  {
   "cell_type": "code",
   "execution_count": 6,
   "id": "f61768b0",
   "metadata": {},
   "outputs": [
    {
     "name": "stdout",
     "output_type": "stream",
     "text": [
      "extended list: [1, 2, 3, 5, 7]\n"
     ]
    }
   ],
   "source": [
    "data=[1,2,3]\n",
    "data.extend([5,6,7])\n",
    "del data[4]\n",
    "print(\"extended list:\",data)"
   ]
  },
  {
   "cell_type": "code",
   "execution_count": 8,
   "id": "3516e0c9",
   "metadata": {},
   "outputs": [
    {
     "name": "stdout",
     "output_type": "stream",
     "text": [
      "updated dict: {'mango': 15, 'apple': 15, 'pineapple': 15}\n"
     ]
    }
   ],
   "source": [
    "d = {'mango': 10, 'banana': 0, 'apple': 15, 'orange': 0, 'pineapple': 20}\n",
    "\n",
    "out_of_stock = [fruit for fruit, stock in d.items() if stock == 0]\n",
    "\n",
    "for fruit in out_of_stock:\n",
    "    del d[fruit]\n",
    "\n",
    "d['mango'] = 15\n",
    "d['pineapple'] -= 5\n",
    "\n",
    "print(\"updated dict:\",d)"
   ]
  },
  {
   "cell_type": "code",
   "execution_count": 10,
   "id": "7bde8bab",
   "metadata": {},
   "outputs": [
    {
     "name": "stdout",
     "output_type": "stream",
     "text": [
      "[2, 4, 6, 8, 10, 12, 14, 16, 18]\n"
     ]
    }
   ],
   "source": [
    "a=[2,4,6,8,10]\n",
    "a += [12,14,16,18]\n",
    "print(a)"
   ]
  },
  {
   "cell_type": "code",
   "execution_count": 16,
   "id": "4a978d5e",
   "metadata": {},
   "outputs": [
    {
     "name": "stdout",
     "output_type": "stream",
     "text": [
      "[2, 3, 4, 5, 6, 7, 8, 10]\n"
     ]
    }
   ],
   "source": [
    "a[:] = [2,3,4,5,6,7,8,10]\n",
    "print(a)"
   ]
  },
  {
   "cell_type": "code",
   "execution_count": 17,
   "id": "5cb19b9a",
   "metadata": {},
   "outputs": [
    {
     "name": "stdout",
     "output_type": "stream",
     "text": [
      "[2, 3, 4, 'a', 'b', 'c', 5, 6, 7, 8, 10]\n"
     ]
    }
   ],
   "source": [
    "a[3:3]=['a','b','c']\n",
    "print(a)"
   ]
  },
  {
   "cell_type": "code",
   "execution_count": 18,
   "id": "05e06670",
   "metadata": {},
   "outputs": [
    {
     "name": "stdout",
     "output_type": "stream",
     "text": [
      "[2, 3, 4, 'a', 'b', 'c', 5, 6, 7, 8, 10]\n"
     ]
    }
   ],
   "source": [
    "a=a\n",
    "print(a)"
   ]
  },
  {
   "cell_type": "code",
   "execution_count": 19,
   "id": "3e08b76e",
   "metadata": {},
   "outputs": [
    {
     "name": "stdout",
     "output_type": "stream",
     "text": [
      "[3, 4, 'a']\n"
     ]
    }
   ],
   "source": [
    "print(a[1:4])"
   ]
  },
  {
   "cell_type": "code",
   "execution_count": 20,
   "id": "138907b4",
   "metadata": {},
   "outputs": [
    {
     "name": "stdout",
     "output_type": "stream",
     "text": [
      "[2, 'b', 'c', 5, 6, 7, 8, 10]\n"
     ]
    }
   ],
   "source": [
    "a[1:4]=[]\n",
    "print(a)"
   ]
  },
  {
   "cell_type": "code",
   "execution_count": null,
   "id": "b0cebe4d",
   "metadata": {},
   "outputs": [],
   "source": []
  }
 ],
 "metadata": {
  "kernelspec": {
   "display_name": "Python 3 (ipykernel)",
   "language": "python",
   "name": "python3"
  },
  "language_info": {
   "codemirror_mode": {
    "name": "ipython",
    "version": 3
   },
   "file_extension": ".py",
   "mimetype": "text/x-python",
   "name": "python",
   "nbconvert_exporter": "python",
   "pygments_lexer": "ipython3",
   "version": "3.10.2"
  }
 },
 "nbformat": 4,
 "nbformat_minor": 5
}
