{
 "cells": [
  {
   "cell_type": "code",
   "execution_count": 1,
   "id": "51a6139b",
   "metadata": {},
   "outputs": [],
   "source": [
    "#cow bull prog as a func"
   ]
  },
  {
   "cell_type": "code",
   "execution_count": 3,
   "id": "f42b80e4",
   "metadata": {},
   "outputs": [
    {
     "name": "stdout",
     "output_type": "stream",
     "text": [
      "(4, 0)\n"
     ]
    }
   ],
   "source": [
    "def cow_bull(secret,guess):\n",
    "    cow=sum(s==g for s,g in zip(secret,guess))\n",
    "    bull=sum(g in secret for g in guess)-cow\n",
    "    return cow,bull\n",
    "\n",
    "secret =\"hello\"\n",
    "guess=\"hillo\"\n",
    "print(cow_bull(secret,guess))"
   ]
  },
  {
   "cell_type": "code",
   "execution_count": 4,
   "id": "01078fe9",
   "metadata": {},
   "outputs": [
    {
     "name": "stdout",
     "output_type": "stream",
     "text": [
      "True\n",
      "False\n"
     ]
    }
   ],
   "source": [
    "def is_palindrome(s):\n",
    "    return s== s[::-1]\n",
    "print(is_palindrome(\"pop\"))\n",
    "print(is_palindrome(\"paul\"))"
   ]
  },
  {
   "cell_type": "code",
   "execution_count": 8,
   "id": "4866bea6",
   "metadata": {},
   "outputs": [
    {
     "name": "stdout",
     "output_type": "stream",
     "text": [
      "[0, 1, 1, 2, 3, 5, 8, 13, 21, 34, 55]\n"
     ]
    }
   ],
   "source": [
    "def fibonacci(a):\n",
    "    fibo=[0,1]\n",
    "    while len(fibo)<a:\n",
    "        fibo.append(fibo[-1]+fibo[-2])\n",
    "    return fibo[:a]\n",
    "print(fibonacci(11))"
   ]
  },
  {
   "cell_type": "code",
   "execution_count": 7,
   "id": "78f7cb66",
   "metadata": {},
   "outputs": [
    {
     "name": "stdout",
     "output_type": "stream",
     "text": [
      "[0, 1, 2, 3, 4]\n",
      "[2, 3, 4, 5, 6, 7, 8]\n"
     ]
    }
   ],
   "source": [
    "def my_range(start,stop=None,step=1):\n",
    "    if stop is None:\n",
    "        stop=start\n",
    "        start=0\n",
    "    return list(range(start,stop,step))\n",
    "print(my_range(7))\n",
    "print(my_range(2,9,1))s"
   ]
  },
  {
   "cell_type": "code",
   "execution_count": null,
   "id": "83a3f6c3",
   "metadata": {},
   "outputs": [],
   "source": []
  }
 ],
 "metadata": {
  "kernelspec": {
   "display_name": "Python 3 (ipykernel)",
   "language": "python",
   "name": "python3"
  },
  "language_info": {
   "codemirror_mode": {
    "name": "ipython",
    "version": 3
   },
   "file_extension": ".py",
   "mimetype": "text/x-python",
   "name": "python",
   "nbconvert_exporter": "python",
   "pygments_lexer": "ipython3",
   "version": "3.10.2"
  }
 },
 "nbformat": 4,
 "nbformat_minor": 5
}
