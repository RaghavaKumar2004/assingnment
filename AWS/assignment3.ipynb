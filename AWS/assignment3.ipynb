{
 "cells": [
  {
   "cell_type": "code",
   "execution_count": 1,
   "id": "383a2880",
   "metadata": {},
   "outputs": [],
   "source": [
    "#Write Examples code for concatenation"
   ]
  },
  {
   "cell_type": "code",
   "execution_count": 3,
   "id": "c05a780e",
   "metadata": {},
   "outputs": [
    {
     "name": "stdout",
     "output_type": "stream",
     "text": [
      "concatenated string: hi friends\n"
     ]
    }
   ],
   "source": [
    "str1=\"hi\"\n",
    "str2=\"friends\"\n",
    "concatenated_string=str1+\" \"+str2\n",
    "print(\"concatenated string:\",concatenated_string)"
   ]
  },
  {
   "cell_type": "code",
   "execution_count": 4,
   "id": "83804a9c",
   "metadata": {},
   "outputs": [],
   "source": [
    "#Write one Examples for each formatting techniques"
   ]
  },
  {
   "cell_type": "code",
   "execution_count": 6,
   "id": "18e6d8f6",
   "metadata": {},
   "outputs": [
    {
     "name": "stdout",
     "output_type": "stream",
     "text": [
      "Formatted string: Name: yash,Age: 20\n"
     ]
    }
   ],
   "source": [
    "name=\"yash\"\n",
    "age=20\n",
    "formatted_string=\"Name: %s,Age: %d\" %(name,age)\n",
    "print(\"Formatted string:\",formatted_string)"
   ]
  },
  {
   "cell_type": "code",
   "execution_count": 7,
   "id": "22765a1b",
   "metadata": {},
   "outputs": [],
   "source": [
    "#Go Through Reference site and apply various options into formatting techniques"
   ]
  },
  {
   "cell_type": "code",
   "execution_count": 8,
   "id": "efdb6616",
   "metadata": {},
   "outputs": [
    {
     "name": "stdout",
     "output_type": "stream",
     "text": [
      "Formatted string: Name:raghava, Age:20\n"
     ]
    }
   ],
   "source": [
    "from string import Template\n",
    "template = Template(\"Name:raghava, Age:20\")\n",
    "formatted_string= template.substitute(name=name, age=age)\n",
    "print(\"Formatted string:\",formatted_string)"
   ]
  },
  {
   "cell_type": "code",
   "execution_count": 9,
   "id": "6ff85de1",
   "metadata": {},
   "outputs": [
    {
     "name": "stdout",
     "output_type": "stream",
     "text": [
      "Formatted string: Name:raghava, Age:20\n"
     ]
    }
   ],
   "source": [
    "formated_string=\"name:{},age: {}\".format(name, age)\n",
    "print(\"Formatted string:\",formatted_string)"
   ]
  },
  {
   "cell_type": "code",
   "execution_count": 10,
   "id": "126aed1e",
   "metadata": {},
   "outputs": [],
   "source": [
    "#write example for each arithmetic operators"
   ]
  },
  {
   "cell_type": "code",
   "execution_count": 11,
   "id": "2ef21e0e",
   "metadata": {},
   "outputs": [
    {
     "name": "stdout",
     "output_type": "stream",
     "text": [
      "Add: 31\n"
     ]
    }
   ],
   "source": [
    "add=25+6\n",
    "print(\"Add:\",add)"
   ]
  },
  {
   "cell_type": "code",
   "execution_count": 12,
   "id": "bb5aff38",
   "metadata": {},
   "outputs": [
    {
     "name": "stdout",
     "output_type": "stream",
     "text": [
      "sub: 172\n"
     ]
    }
   ],
   "source": [
    "subtract=245-73\n",
    "print(\"sub:\",subtract)"
   ]
  },
  {
   "cell_type": "code",
   "execution_count": 14,
   "id": "3f59927c",
   "metadata": {},
   "outputs": [
    {
     "name": "stdout",
     "output_type": "stream",
     "text": [
      "multiply: 14570\n"
     ]
    }
   ],
   "source": [
    "multiply=235*62\n",
    "print(\"multiply:\",multiply)"
   ]
  },
  {
   "cell_type": "code",
   "execution_count": 15,
   "id": "cb999006",
   "metadata": {},
   "outputs": [
    {
     "name": "stdout",
     "output_type": "stream",
     "text": [
      "division: 13.0\n",
      "expoten: 6561\n",
      "modulus: 3\n"
     ]
    }
   ],
   "source": [
    "division=26/2\n",
    "result_exp=3**8\n",
    "result_mod=23%5\n",
    "\n",
    "print(\"division:\",division)\n",
    "print(\"expoten:\",result_exp)\n",
    "print(\"modulus:\",result_mod)"
   ]
  },
  {
   "cell_type": "code",
   "execution_count": 16,
   "id": "5bf796b9",
   "metadata": {},
   "outputs": [],
   "source": [
    "#write example for assignment operators(except: = & +=)"
   ]
  },
  {
   "cell_type": "code",
   "execution_count": 20,
   "id": "44553764",
   "metadata": {},
   "outputs": [
    {
     "name": "stdout",
     "output_type": "stream",
     "text": [
      "after multiply: 4\n"
     ]
    }
   ],
   "source": [
    "x=2\n",
    "x *=2\n",
    "print(\"after multiply:\",x)"
   ]
  },
  {
   "cell_type": "code",
   "execution_count": 21,
   "id": "51fe6052",
   "metadata": {},
   "outputs": [
    {
     "name": "stdout",
     "output_type": "stream",
     "text": [
      "after subtract: 41\n"
     ]
    }
   ],
   "source": [
    "x=45\n",
    "x -=4\n",
    "print(\"after subtract:\",x)"
   ]
  },
  {
   "cell_type": "code",
   "execution_count": 22,
   "id": "9707a448",
   "metadata": {},
   "outputs": [
    {
     "name": "stdout",
     "output_type": "stream",
     "text": [
      "after divide: 11.0\n"
     ]
    }
   ],
   "source": [
    "z=121\n",
    "z /=11\n",
    "print(\"after divide:\",z)"
   ]
  },
  {
   "cell_type": "code",
   "execution_count": null,
   "id": "917f48f4",
   "metadata": {},
   "outputs": [],
   "source": []
  }
 ],
 "metadata": {
  "kernelspec": {
   "display_name": "Python 3 (ipykernel)",
   "language": "python",
   "name": "python3"
  },
  "language_info": {
   "codemirror_mode": {
    "name": "ipython",
    "version": 3
   },
   "file_extension": ".py",
   "mimetype": "text/x-python",
   "name": "python",
   "nbconvert_exporter": "python",
   "pygments_lexer": "ipython3",
   "version": "3.10.2"
  }
 },
 "nbformat": 4,
 "nbformat_minor": 5
}
